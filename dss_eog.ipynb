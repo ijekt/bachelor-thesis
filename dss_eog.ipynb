{
 "cells": [
  {
   "cell_type": "code",
   "execution_count": 1,
   "id": "fe70e75c-815d-4b7c-84e9-4d65aadd3069",
   "metadata": {},
   "outputs": [],
   "source": [
    "import os\n",
    "import matplotlib.pyplot as plt\n",
    "import numpy as np\n",
    "import pandas as pd\n",
    "import mne\n",
    "from scipy import signal\n",
    "import meegkit\n",
    "from meegkit import dss\n",
    "from meegkit.utils import create_line_data, unfold, fold, rms, tscov\n",
    "from meegkit.utils.denoise import demean\n",
    "from meegkit.tspca import tsr\n",
    "\n",
    "%matplotlib qt5"
   ]
  },
  {
   "cell_type": "code",
   "execution_count": 2,
   "id": "a2a5cda6-520a-41d6-b9a5-13f5209572b1",
   "metadata": {},
   "outputs": [
    {
     "name": "stdout",
     "output_type": "stream",
     "text": [
      "Opening raw data file pre_filtered_data_raw.fif...\n",
      "    Range : 25000 ... 1583999 =     50.000 ...  3167.998 secs\n",
      "Ready.\n",
      "Opening raw data file /home/ijekt/Documents/cs_cog_fat/pre_filtered_data_raw-1.fif...\n",
      "    Range : 1584000 ... 2135999 =   3168.000 ...  4271.998 secs\n",
      "Ready.\n",
      "Reading 0 ... 2110999  =      0.000 ...  4221.998 secs...\n"
     ]
    }
   ],
   "source": [
    "raw = mne.io.read_raw_fif('pre_filtered_data_raw.fif', preload=True)"
   ]
  },
  {
   "cell_type": "code",
   "execution_count": 7,
   "id": "dd5d02fb-b345-42f3-a3ee-253d398992ce",
   "metadata": {},
   "outputs": [
    {
     "name": "stdout",
     "output_type": "stream",
     "text": [
      "['EOG002', 'ECG003', 'ECG', 'BIO005', 'EEG001', 'EEG002', 'EEG003', 'EEG004', 'EEG005', 'EEG006', 'EEG007', 'EEG008', 'EEG009', 'EEG010', 'EEG011', 'EEG012', 'EEG013', 'EEG014', 'EEG015', 'EEG016', 'EEG017', 'EEG018', 'EEG019', 'EEG020', 'EEG021', 'EEG022', 'EEG023', 'EEG024', 'EEG025', 'EEG026', 'EEG027', 'EEG028', 'EEG029', 'EEG030', 'MEG0111', 'MEG0112', 'MEG0113', 'MEG0121', 'MEG0122', 'MEG0123', 'MEG0131', 'MEG0132', 'MEG0133', 'MEG0141', 'MEG0142', 'MEG0143', 'MEG0211', 'MEG0212', 'MEG0213', 'MEG0221', 'MEG0222', 'MEG0223', 'MEG0231', 'MEG0232', 'MEG0233', 'MEG0241', 'MEG0242', 'MEG0243', 'MEG0311', 'MEG0312', 'MEG0313', 'MEG0321', 'MEG0322', 'MEG0323', 'MEG0331', 'MEG0332', 'MEG0333', 'MEG0341', 'MEG0342', 'MEG0343', 'MEG0411', 'MEG0412', 'MEG0413', 'MEG0421', 'MEG0422', 'MEG0423', 'MEG0431', 'MEG0432', 'MEG0433', 'MEG0441', 'MEG0442', 'MEG0443', 'MEG0511', 'MEG0512', 'MEG0513', 'MEG0521', 'MEG0522', 'MEG0523', 'MEG0531', 'MEG0532', 'MEG0533', 'MEG0541', 'MEG0542', 'MEG0543', 'MEG0611', 'MEG0612', 'MEG0613', 'MEG0621', 'MEG0622', 'MEG0623', 'MEG0631', 'MEG0632', 'MEG0633', 'MEG0641', 'MEG0642', 'MEG0643', 'MEG0711', 'MEG0712', 'MEG0713', 'MEG0721', 'MEG0722', 'MEG0723', 'MEG0731', 'MEG0732', 'MEG0733', 'MEG0741', 'MEG0742', 'MEG0743', 'MEG0811', 'MEG0812', 'MEG0813', 'MEG0821', 'MEG0822', 'MEG0823', 'MEG0911', 'MEG0912', 'MEG0913', 'MEG0921', 'MEG0922', 'MEG0923', 'MEG0931', 'MEG0932', 'MEG0933', 'MEG0941', 'MEG0942', 'MEG0943', 'MEG1011', 'MEG1012', 'MEG1013', 'MEG1021', 'MEG1022', 'MEG1023', 'MEG1031', 'MEG1032', 'MEG1033', 'MEG1041', 'MEG1042', 'MEG1043', 'MEG1111', 'MEG1112', 'MEG1113', 'MEG1121', 'MEG1122', 'MEG1123', 'MEG1131', 'MEG1132', 'MEG1133', 'MEG1141', 'MEG1142', 'MEG1143', 'MEG1211', 'MEG1212', 'MEG1213', 'MEG1221', 'MEG1222', 'MEG1223', 'MEG1231', 'MEG1232', 'MEG1233', 'MEG1241', 'MEG1242', 'MEG1243', 'MEG1311', 'MEG1312', 'MEG1313', 'MEG1321', 'MEG1322', 'MEG1323', 'MEG1331', 'MEG1332', 'MEG1333', 'MEG1341', 'MEG1342', 'MEG1343', 'MEG1411', 'MEG1412', 'MEG1413', 'MEG1421', 'MEG1422', 'MEG1423', 'MEG1431', 'MEG1432', 'MEG1433', 'MEG1441', 'MEG1442', 'MEG1443', 'MEG1511', 'MEG1512', 'MEG1513', 'MEG1521', 'MEG1522', 'MEG1523', 'MEG1531', 'MEG1532', 'MEG1533', 'MEG1541', 'MEG1542', 'MEG1543', 'MEG1611', 'MEG1612', 'MEG1613', 'MEG1621', 'MEG1622', 'MEG1623', 'MEG1631', 'MEG1632', 'MEG1633', 'MEG1641', 'MEG1642', 'MEG1643', 'MEG1711', 'MEG1712', 'MEG1713', 'MEG1721', 'MEG1722', 'MEG1723', 'MEG1731', 'MEG1732', 'MEG1733', 'MEG1741', 'MEG1742', 'MEG1743', 'MEG1811', 'MEG1812', 'MEG1813', 'MEG1821', 'MEG1822', 'MEG1823', 'MEG1831', 'MEG1832', 'MEG1833', 'MEG1841', 'MEG1842', 'MEG1843', 'MEG1911', 'MEG1912', 'MEG1913', 'MEG1921', 'MEG1922', 'MEG1923', 'MEG1931', 'MEG1932', 'MEG1933', 'MEG1941', 'MEG1942', 'MEG1943', 'MEG2011', 'MEG2012', 'MEG2013', 'MEG2021', 'MEG2022', 'MEG2023', 'MEG2031', 'MEG2032', 'MEG2033', 'MEG2041', 'MEG2042', 'MEG2043', 'MEG2111', 'MEG2112', 'MEG2113', 'MEG2121', 'MEG2122', 'MEG2123', 'MEG2131', 'MEG2132', 'MEG2133', 'MEG2141', 'MEG2142', 'MEG2143', 'MEG2211', 'MEG2212', 'MEG2213', 'MEG2221', 'MEG2222', 'MEG2223', 'MEG2231', 'MEG2232', 'MEG2233', 'MEG2241', 'MEG2242', 'MEG2243', 'MEG2311', 'MEG2312', 'MEG2313', 'MEG2321', 'MEG2322', 'MEG2323', 'MEG2331', 'MEG2332', 'MEG2333', 'MEG2341', 'MEG2342', 'MEG2343', 'MEG2411', 'MEG2412', 'MEG2413', 'MEG2421', 'MEG2422', 'MEG2423', 'MEG2431', 'MEG2432', 'MEG2433', 'MEG2441', 'MEG2442', 'MEG2443', 'MEG2511', 'MEG2512', 'MEG2513', 'MEG2521', 'MEG2522', 'MEG2523', 'MEG2531', 'MEG2532', 'MEG2533', 'MEG2541', 'MEG2542', 'MEG2543', 'MEG2611', 'MEG2612', 'MEG2613', 'MEG2621', 'MEG2622', 'MEG2623', 'MEG2631', 'MEG2632', 'MEG2633', 'MEG2641', 'MEG2642', 'MEG2643', 'STI101', 'STI102', 'SYS201']\n"
     ]
    }
   ],
   "source": [
    "print(raw.ch_names)"
   ]
  },
  {
   "cell_type": "code",
   "execution_count": 3,
   "id": "b2343de7-cf01-4805-9514-be6f03fcb2d8",
   "metadata": {},
   "outputs": [],
   "source": [
    "# Define a minimum duration for events, e.g., 10 milliseconds\n",
    "min_duration = 10 / 1000  # Convert milliseconds to seconds\n",
    "min_duration_samples = min_duration * raw.info['sfreq']  # Convert to samples"
   ]
  },
  {
   "cell_type": "code",
   "execution_count": 4,
   "id": "9175552d-f374-496b-9887-076a8faff42a",
   "metadata": {},
   "outputs": [
    {
     "name": "stdout",
     "output_type": "stream",
     "text": [
      "8027 events found on stim channel STI101\n",
      "Event IDs: [    1     2     7     9    32    33    64    65    66    67    69    70\n",
      "    71    72 32696 32697 32698 32699 32701 32702 32703 32704 32717 32719\n",
      " 32759 32760 32761 32762 32763 32764 32765 32766 32767 32768]\n",
      "2135 events found on stim channel STI102\n",
      "Event IDs: [  3   4   7   8   9 254]\n"
     ]
    },
    {
     "name": "stderr",
     "output_type": "stream",
     "text": [
      "/tmp/ipykernel_21892/2991666.py:1: RuntimeWarning: Trigger channel contains negative values, using absolute value. If data were acquired on a Neuromag system with STI016 active, consider using uint_cast=True to work around an acquisition bug\n",
      "  events = mne.find_events(raw, initial_event=True, stim_channel=[\"STI101\", \"STI102\"], min_duration=min_duration)\n"
     ]
    }
   ],
   "source": [
    "events = mne.find_events(raw, initial_event=True, stim_channel=[\"STI101\", \"STI102\"], min_duration=min_duration)"
   ]
  },
  {
   "cell_type": "code",
   "execution_count": 3,
   "id": "39a172e1-340f-4d12-a97e-44e12f01bba7",
   "metadata": {},
   "outputs": [
    {
     "name": "stdout",
     "output_type": "stream",
     "text": [
      "Not setting metadata\n",
      "4221 matching events found\n",
      "No baseline correction applied\n",
      "0 projection items activated\n",
      "Using data from preloaded Raw for 4221 events and 501 original time points ...\n",
      "0 bad epochs dropped\n"
     ]
    }
   ],
   "source": [
    "events = mne.make_fixed_length_events(raw, start=0, stop=raw.times[-1], duration=1.0)\n",
    "tmin, tmax = 0, 1  # Start and end time around event (in seconds)\n",
    "baseline = None  # or (None, 0) if you want to apply baseline correction\n",
    "\n",
    "# Create epochs\n",
    "epochs = mne.Epochs(raw, events, tmin=tmin, tmax=tmax, baseline=baseline, preload=True)"
   ]
  },
  {
   "cell_type": "code",
   "execution_count": 4,
   "id": "a699343f-17ef-472e-aa62-63fd49d914b5",
   "metadata": {},
   "outputs": [
    {
     "name": "stdout",
     "output_type": "stream",
     "text": [
      "Using qt as 2D backend.\n"
     ]
    },
    {
     "data": {
      "text/plain": [
       "<mne_qt_browser._pg_figure.MNEQtBrowser at 0x7f6a039ad4c0>"
      ]
     },
     "execution_count": 4,
     "metadata": {},
     "output_type": "execute_result"
    },
    {
     "name": "stdout",
     "output_type": "stream",
     "text": [
      "Dropped 86 epochs: 131, 132, 133, 134, 135, 138, 139, 140, 141, 260, 261, 262, 263, 264, 323, 324, 359, 382, 383, 384, 385, 386, 406, 407, 416, 417, 808, 809, 810, 811, 812, 813, 814, 815, 816, 817, 818, 819, 820, 821, 822, 823, 824, 825, 826, 827, 828, 903, 904, 923, 924, 925, 926, 927, 928, 929, 930, 962, 963, 1013, 1014, 1321, 1322, 1323, 1324, 1496, 1497, 1498, 1499, 1760, 1761, 1762, 3822, 3823, 3824, 3825, 3826, 3866, 3871, 3872, 3887, 3888, 3889, 4211, 4212, 4213\n",
      "The following epochs were marked as bad and are dropped:\n",
      "[131, 132, 133, 134, 135, 138, 139, 140, 141, 260, 261, 262, 263, 264, 323, 324, 359, 382, 383, 384, 385, 386, 406, 407, 416, 417, 808, 809, 810, 811, 812, 813, 814, 815, 816, 817, 818, 819, 820, 821, 822, 823, 824, 825, 826, 827, 828, 903, 904, 923, 924, 925, 926, 927, 928, 929, 930, 962, 963, 1013, 1014, 1321, 1322, 1323, 1324, 1496, 1497, 1498, 1499, 1760, 1761, 1762, 3822, 3823, 3824, 3825, 3826, 3866, 3871, 3872, 3887, 3888, 3889, 4211, 4212, 4213]\n",
      "Channels marked as bad:\n",
      "none\n"
     ]
    }
   ],
   "source": [
    "epochs.plot()"
   ]
  },
  {
   "cell_type": "code",
   "execution_count": 6,
   "id": "a4ea6604-1b39-4775-8b50-c7835964a47b",
   "metadata": {},
   "outputs": [
    {
     "name": "stdout",
     "output_type": "stream",
     "text": [
      "Splitting into 2 parts\n"
     ]
    }
   ],
   "source": [
    "epochs.save('prefiltered_data_ca_dropped_epo.fif', overwrite=True)"
   ]
  },
  {
   "cell_type": "code",
   "execution_count": 7,
   "id": "48b60a07-143a-4ca5-ae56-7df865019773",
   "metadata": {},
   "outputs": [
    {
     "name": "stderr",
     "output_type": "stream",
     "text": [
      "/tmp/ipykernel_22189/2927246647.py:1: FutureWarning: The current default of copy=False will change to copy=True in 1.7. Set the value of copy explicitly to avoid this warning\n",
      "  data = epochs.get_data()\n"
     ]
    }
   ],
   "source": [
    "data = epochs.get_data()"
   ]
  },
  {
   "cell_type": "code",
   "execution_count": 9,
   "id": "cd9224eb-edae-4ce1-846f-4d8c428cfc6d",
   "metadata": {},
   "outputs": [
    {
     "name": "stdout",
     "output_type": "stream",
     "text": [
      "(4135, 343, 501)\n"
     ]
    }
   ],
   "source": [
    "print(data.shape)"
   ]
  },
  {
   "cell_type": "code",
   "execution_count": null,
   "id": "1dd2a370-4ad7-4949-9600-e9f415ed46cd",
   "metadata": {},
   "outputs": [],
   "source": []
  },
  {
   "cell_type": "code",
   "execution_count": 3,
   "id": "1a00ae34-a061-49d9-8fb5-e401395f3d98",
   "metadata": {},
   "outputs": [],
   "source": [
    "# Select only MEG channels\n",
    "meg_channels = mne.pick_types(raw.info, meg=True)\n",
    "\n",
    "# Select the EOG channel(s)\n",
    "#eog_channels = mne.pick_types(raw.info, eog=True)"
   ]
  },
  {
   "cell_type": "code",
   "execution_count": 4,
   "id": "7d6cf927-ce76-4860-a810-5ff4116e54bb",
   "metadata": {},
   "outputs": [],
   "source": [
    "# Extract the data\n",
    "meg_data = raw.get_data()[meg_channels]\n"
   ]
  },
  {
   "cell_type": "code",
   "execution_count": 5,
   "id": "cb490d84-a74c-4ca9-a5b3-c0321c4dbe50",
   "metadata": {},
   "outputs": [],
   "source": [
    "#eog_data = raw.get_data()[eog_channels]"
   ]
  },
  {
   "cell_type": "code",
   "execution_count": 6,
   "id": "4b3dbe8c-e735-4c4a-ac77-2f12f4faf93c",
   "metadata": {},
   "outputs": [
    {
     "name": "stdout",
     "output_type": "stream",
     "text": [
      "(306, 2111000)\n"
     ]
    }
   ],
   "source": [
    "print(meg_data.shape)\n",
    "#print(eog_data.shape)"
   ]
  },
  {
   "cell_type": "markdown",
   "id": "5c970aa2-ede3-42fc-9596-879405936188",
   "metadata": {},
   "source": [
    "# remove powerline"
   ]
  },
  {
   "cell_type": "code",
   "execution_count": 8,
   "id": "067ff88b-d7ca-4218-a5da-803f4593b66f",
   "metadata": {},
   "outputs": [
    {
     "name": "stdout",
     "output_type": "stream",
     "text": [
      "500.0\n"
     ]
    }
   ],
   "source": [
    "# Set the parameters\n",
    "fline = 50  # Power line frequency in Hertz\n",
    "sfreq = raw.info['sfreq']  # Sampling frequency in Hertz\n",
    "print(sfreq)"
   ]
  },
  {
   "cell_type": "code",
   "execution_count": null,
   "id": "b210b144-a569-40a2-bcae-4ee4d72c17c5",
   "metadata": {},
   "outputs": [],
   "source": [
    "# Apply DSS to remove power line artifacts on meg data\n",
    "dss_meg, iterations = meegkit.dss.dss_line_iter(dss_pl_meg, fline, sfreq, nfft=400)\n",
    "print(f\"Removed {iterations} components\")"
   ]
  },
  {
   "cell_type": "code",
   "execution_count": 9,
   "id": "b90bf2bf-988f-461f-8cbe-710c5a010e99",
   "metadata": {},
   "outputs": [],
   "source": [
    "np.save('dss_pl_meg.npy', dss_meg)"
   ]
  },
  {
   "cell_type": "code",
   "execution_count": 3,
   "id": "84d59514-dacb-4715-82de-8c297a4d8a84",
   "metadata": {},
   "outputs": [],
   "source": [
    "dss_pl_meg = np.load('dss_pl_meg.npy')"
   ]
  },
  {
   "cell_type": "code",
   "execution_count": 4,
   "id": "6098bbc8-79b9-44c3-9476-d5cb44a64661",
   "metadata": {},
   "outputs": [
    {
     "name": "stdout",
     "output_type": "stream",
     "text": [
      "(2111000, 306)\n"
     ]
    }
   ],
   "source": [
    "print(dss_pl_meg.shape)"
   ]
  },
  {
   "cell_type": "code",
   "execution_count": 17,
   "id": "3631ce3e-bfd7-42b1-8a20-af8370dd1337",
   "metadata": {},
   "outputs": [
    {
     "name": "stdout",
     "output_type": "stream",
     "text": [
      "(1, 2111000)\n"
     ]
    }
   ],
   "source": [
    "#print(eog_data.shape)"
   ]
  },
  {
   "cell_type": "code",
   "execution_count": 18,
   "id": "77762321-a1f1-44c4-ae54-65fcb1aa115d",
   "metadata": {},
   "outputs": [],
   "source": [
    "#eog_data = eog_data.T"
   ]
  },
  {
   "cell_type": "code",
   "execution_count": 5,
   "id": "499d881d-9400-4a34-84b4-b29094758aec",
   "metadata": {},
   "outputs": [],
   "source": [
    "x = dss_pl_meg\n",
    "sf = raw.info['sfreq']\n",
    "x = demean(x)"
   ]
  },
  {
   "cell_type": "code",
   "execution_count": 6,
   "id": "5b1ad0db-61f6-4166-8110-d47e1d4276fc",
   "metadata": {},
   "outputs": [],
   "source": [
    "# Remove eyeblink components\n",
    "w = np.abs(x) > 4 * np.median(np.abs(x))\n",
    "w = np.mean(w, axis=1)\n",
    "c0 = np.cov(x, rowvar=False)\n",
    "c1 = np.cov(np.multiply(x, w[:, np.newaxis]), rowvar=False)"
   ]
  },
  {
   "cell_type": "code",
   "execution_count": 7,
   "id": "f41fffee-f12d-440f-b633-2d11b815638a",
   "metadata": {},
   "outputs": [
    {
     "name": "stdout",
     "output_type": "stream",
     "text": [
      "(2111000,)\n",
      "(306, 306)\n",
      "(306, 306)\n"
     ]
    }
   ],
   "source": [
    "print(w.shape)\n",
    "print(c0.shape)\n",
    "print(c1.shape)"
   ]
  },
  {
   "cell_type": "code",
   "execution_count": 8,
   "id": "ab5b64ef-dacb-43ce-bcc4-e85c78c24178",
   "metadata": {},
   "outputs": [],
   "source": [
    "#apply dss\n",
    "todss, fromdss, pwr0, pwr1,  = meegkit.dss.dss0(c0, c1)"
   ]
  },
  {
   "cell_type": "code",
   "execution_count": 9,
   "id": "95c32331-23ee-434f-99b0-c8a40485ebe7",
   "metadata": {},
   "outputs": [
    {
     "name": "stdout",
     "output_type": "stream",
     "text": [
      "(76,)\n",
      "(76,)\n"
     ]
    }
   ],
   "source": [
    "print(pwr0.shape)\n",
    "print(pwr1.shape)"
   ]
  },
  {
   "cell_type": "code",
   "execution_count": 10,
   "id": "6a4308b1-76d2-485e-87c8-6b6ff3bdb99d",
   "metadata": {},
   "outputs": [],
   "source": [
    "# 4. Plotting\n",
    "plt.figure(4)\n",
    "plt.subplot(121)\n",
    "plt.plot(pwr1 / pwr0, '.-')\n",
    "plt.ylabel('score')\n",
    "plt.xlabel('components')\n",
    "plt.title('DSS eyeblink')\n",
    "\n",
    "# Applying the DSS matrix to the data\n",
    "z = np.matmul(x, todss)"
   ]
  },
  {
   "cell_type": "code",
   "execution_count": 11,
   "id": "b74efe20-938e-48a8-8557-9384a88624ab",
   "metadata": {
    "scrolled": true
   },
   "outputs": [],
   "source": [
    "# 1. Set number of components to remove\n",
    "NREMOVE3 = 2\n",
    "\n",
    "# 2. Perform Time Series Regression (TSR)\n",
    "# This removes the contribution of the first NREMOVE3 components in z from x\n",
    "x_cleaned = meegkit.tspca.tsr(x, z[:, :NREMOVE3])\n",
    "cleaned_data = x_cleaned[0]\n",
    "\n",
    "# 3. Plotting\n",
    "plt.figure(5)\n",
    "plt.clf()\n",
    "plt.plot(cleaned_data)\n",
    "plt.title('after eyeblink removal')\n",
    "plt.draw()  # Equivalent to MATLAB's drawnow"
   ]
  },
  {
   "cell_type": "code",
   "execution_count": null,
   "id": "e06bcb6b-b90e-45f3-b3d7-128cdaa7dd48",
   "metadata": {},
   "outputs": [],
   "source": [
    "# Number of components to keep\n",
    "NKEEP = 7\n",
    "\n",
    "# Select the best components and project back to sensor space\n",
    "projection_matrix = np.dot(todss[:, :NKEEP], fromdss[:NKEEP, :])\n",
    "yy = np.dot(x, projection_matrix)"
   ]
  },
  {
   "cell_type": "code",
   "execution_count": 53,
   "id": "161519a0-dcfa-4e4c-b7d9-140b7f8adafa",
   "metadata": {},
   "outputs": [
    {
     "name": "stdout",
     "output_type": "stream",
     "text": [
      "[[-4.69034945e-18 -1.19738118e-16 -2.28340185e-17 ...  1.84440618e-18\n",
      "  -7.51516969e-17 -6.04484052e-17]\n",
      " [ 1.64442318e-13  1.20822041e-12  1.17501873e-12 ... -2.93920798e-14\n",
      "  -6.78132698e-13  2.28915155e-13]\n",
      " [ 9.76219957e-14  1.16983486e-12  4.13772913e-13 ... -6.43970745e-15\n",
      "  -7.17776876e-13 -2.84579748e-13]\n",
      " [ 9.49949977e-14  1.96523967e-12  4.86528623e-13 ... -8.84341947e-15\n",
      "  -1.17589874e-12 -1.69186303e-13]\n",
      " [ 1.50240101e-13  2.41068533e-12  8.71401864e-13 ... -2.09595867e-14\n",
      "  -1.45620407e-12  1.64071666e-14]]\n"
     ]
    }
   ],
   "source": [
    "print(yy[:5])"
   ]
  },
  {
   "cell_type": "code",
   "execution_count": 54,
   "id": "b6565fa0-1378-46a9-b3e0-9a21d9b2eb3b",
   "metadata": {},
   "outputs": [],
   "source": [
    "y = yy.T"
   ]
  },
  {
   "cell_type": "code",
   "execution_count": 55,
   "id": "cd56604b-ecf1-4d32-8f0c-2dd721bac3e5",
   "metadata": {},
   "outputs": [
    {
     "name": "stdout",
     "output_type": "stream",
     "text": [
      "Creating RawArray with float64 data, n_channels=306, n_times=2111000\n",
      "    Range : 0 ... 2110999 =      0.000 ...  2110.999 secs\n",
      "Ready.\n"
     ]
    }
   ],
   "source": [
    "n_channels = y.shape[0]\n",
    "\n",
    "# Generate dummy channel names\n",
    "channel_names = ['MEG%03d' % i for i in range(1, n_channels + 1)]\n",
    "\n",
    "# Create a list of channel types (all 'meg' in this case)\n",
    "channel_types = ['mag'] * n_channels\n",
    "\n",
    "# Create MNE Info object\n",
    "info = mne.create_info(ch_names=channel_names, sfreq=1000, ch_types=channel_types)  # Replace 1000 with your actual sampling rate\n",
    "\n",
    "# Transpose 'y' to have shape [n_times, n_channels] and create RawArray object\n",
    "dss_raw = mne.io.RawArray(y, info)"
   ]
  },
  {
   "cell_type": "code",
   "execution_count": 56,
   "id": "60e2c886-ada5-4225-b31b-8bc89694c595",
   "metadata": {},
   "outputs": [
    {
     "data": {
      "text/plain": [
       "<mne_qt_browser._pg_figure.MNEQtBrowser at 0x7f81f5ba6ee0>"
      ]
     },
     "execution_count": 56,
     "metadata": {},
     "output_type": "execute_result"
    },
    {
     "name": "stdout",
     "output_type": "stream",
     "text": [
      "Waiting for Loading-Thread to finish... (max. 10 sec)\n",
      "Channels marked as bad:\n",
      "none\n"
     ]
    },
    {
     "name": "stderr",
     "output_type": "stream",
     "text": [
      "Traceback (most recent call last):\n",
      "  File \"/home/ijekt/anaconda3/envs/neuroimaging/lib/python3.9/site-packages/mne_qt_browser/_pg_figure.py\", line 2585, in run\n",
      "    if self.mne.is_epochs:\n",
      "AttributeError: 'LoadThread' object has no attribute 'mne'\n"
     ]
    }
   ],
   "source": [
    "dss_raw.plot(duration=5, n_channels=20, scalings='auto')"
   ]
  },
  {
   "cell_type": "code",
   "execution_count": null,
   "id": "d2581b20-d637-452d-9ba0-9613574531fd",
   "metadata": {},
   "outputs": [],
   "source": []
  }
 ],
 "metadata": {
  "kernelspec": {
   "display_name": "Python 3 (ipykernel)",
   "language": "python",
   "name": "python3"
  },
  "language_info": {
   "codemirror_mode": {
    "name": "ipython",
    "version": 3
   },
   "file_extension": ".py",
   "mimetype": "text/x-python",
   "name": "python",
   "nbconvert_exporter": "python",
   "pygments_lexer": "ipython3",
   "version": "3.9.18"
  }
 },
 "nbformat": 4,
 "nbformat_minor": 5
}
