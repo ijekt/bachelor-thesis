{
 "cells": [
  {
   "cell_type": "code",
   "execution_count": 1,
   "id": "2982e412-a7f3-42ac-b833-67f6254b5611",
   "metadata": {},
   "outputs": [],
   "source": [
    "import os\n",
    "\n",
    "import matplotlib.pyplot as plt\n",
    "import numpy as np\n",
    "\n",
    "import mne\n",
    "from mne.preprocessing import (\n",
    "    compute_proj_ecg,\n",
    "    compute_proj_eog,\n",
    "    create_ecg_epochs,\n",
    "    create_eog_epochs,\n",
    ")\n",
    "%matplotlib qt"
   ]
  },
  {
   "cell_type": "code",
   "execution_count": 2,
   "id": "02f57a21-5b9d-47a3-b49d-b45ca9cc2b9a",
   "metadata": {},
   "outputs": [
    {
     "name": "stdout",
     "output_type": "stream",
     "text": [
      "Opening raw data file pre_filtered_data_raw.fif...\n",
      "    Range : 25000 ... 1583999 =     50.000 ...  3167.998 secs\n",
      "Ready.\n",
      "Opening raw data file /home/ijekt/Documents/cs_cog_fat/pre_filtered_data_raw-1.fif...\n",
      "    Range : 1584000 ... 2135999 =   3168.000 ...  4271.998 secs\n",
      "Ready.\n",
      "Reading 0 ... 2110999  =      0.000 ...  4221.998 secs...\n"
     ]
    }
   ],
   "source": [
    "raw = mne.io.read_raw_fif('pre_filtered_data_raw.fif', preload=True)"
   ]
  },
  {
   "cell_type": "code",
   "execution_count": 4,
   "id": "122f9478-d93d-455b-af7b-4645e0ad458a",
   "metadata": {},
   "outputs": [],
   "source": [
    "#raw.compute_psd(fmax=200).plot(picks=\"data\", exclude=\"bads\")\n",
    "#raw.plot(duration=5, n_channels=20, scalings='auto')"
   ]
  },
  {
   "cell_type": "code",
   "execution_count": 3,
   "id": "5f6ba9a9-1de1-464a-b632-45fe16054d7b",
   "metadata": {},
   "outputs": [
    {
     "name": "stdout",
     "output_type": "stream",
     "text": [
      "Including 0 SSP projectors from raw file\n",
      "Running ECG SSP computation\n",
      "Using channel ECG to identify heart beats.\n",
      "Setting up band-pass filter from 5 - 35 Hz\n",
      "\n",
      "FIR filter parameters\n",
      "---------------------\n",
      "Designing a two-pass forward and reverse, zero-phase, non-causal bandpass filter:\n",
      "- Windowed frequency-domain design (firwin2) method\n",
      "- Hann window\n",
      "- Lower passband edge: 5.00\n",
      "- Lower transition bandwidth: 0.50 Hz (-12 dB cutoff frequency: 4.75 Hz)\n",
      "- Upper passband edge: 35.00 Hz\n",
      "- Upper transition bandwidth: 0.50 Hz (-12 dB cutoff frequency: 35.25 Hz)\n",
      "- Filter length: 5000 samples (10.000 s)\n",
      "\n",
      "Number of ECG events detected : 4875 (average pulse 69 / min.)\n",
      "Computing projector\n",
      "Filtering raw data in 1 contiguous segment\n",
      "Setting up band-pass filter from 1 - 35 Hz\n",
      "\n",
      "FIR filter parameters\n",
      "---------------------\n",
      "Designing a two-pass forward and reverse, zero-phase, non-causal bandpass filter:\n",
      "- Windowed frequency-domain design (firwin2) method\n",
      "- Hamming window\n",
      "- Lower passband edge: 1.00\n",
      "- Lower transition bandwidth: 0.50 Hz (-12 dB cutoff frequency: 0.75 Hz)\n",
      "- Upper passband edge: 35.00 Hz\n",
      "- Upper transition bandwidth: 0.50 Hz (-12 dB cutoff frequency: 35.25 Hz)\n",
      "- Filter length: 5000 samples (10.000 s)\n",
      "\n"
     ]
    },
    {
     "name": "stderr",
     "output_type": "stream",
     "text": [
      "[Parallel(n_jobs=1)]: Using backend SequentialBackend with 1 concurrent workers.\n",
      "[Parallel(n_jobs=1)]: Done   1 out of   1 | elapsed:    0.1s remaining:    0.0s\n",
      "[Parallel(n_jobs=1)]: Done   2 out of   2 | elapsed:    0.1s remaining:    0.0s\n",
      "[Parallel(n_jobs=1)]: Done   3 out of   3 | elapsed:    0.2s remaining:    0.0s\n",
      "[Parallel(n_jobs=1)]: Done   4 out of   4 | elapsed:    0.3s remaining:    0.0s\n",
      "[Parallel(n_jobs=1)]: Done 338 out of 338 | elapsed:   34.2s finished\n"
     ]
    },
    {
     "name": "stdout",
     "output_type": "stream",
     "text": [
      "Not setting metadata\n",
      "4875 matching events found\n",
      "No baseline correction applied\n",
      "0 projection items activated\n",
      "Using data from preloaded Raw for 4875 events and 301 original time points ...\n",
      "1 bad epochs dropped\n",
      "Adding projection: planar--0.200-0.400-PCA-01\n",
      "Adding projection: axial--0.200-0.400-PCA-01\n",
      "Adding projection: eeg--0.200-0.400-PCA-01\n",
      "Done.\n",
      "Including 0 SSP projectors from raw file\n",
      "Running EOG SSP computation\n",
      "Using EOG channel: EOG002\n",
      "EOG channel index for this subject is: [0]\n",
      "Filtering the data to remove DC offset to help distinguish blinks from saccades\n",
      "Selecting channel EOG002 for blink detection\n",
      "Setting up band-pass filter from 1 - 10 Hz\n",
      "\n",
      "FIR filter parameters\n",
      "---------------------\n",
      "Designing a two-pass forward and reverse, zero-phase, non-causal bandpass filter:\n",
      "- Windowed frequency-domain design (firwin2) method\n",
      "- Hann window\n",
      "- Lower passband edge: 1.00\n",
      "- Lower transition bandwidth: 0.50 Hz (-12 dB cutoff frequency: 0.75 Hz)\n",
      "- Upper passband edge: 10.00 Hz\n",
      "- Upper transition bandwidth: 0.50 Hz (-12 dB cutoff frequency: 10.25 Hz)\n",
      "- Filter length: 5000 samples (10.000 s)\n",
      "\n",
      "Now detecting blinks and generating corresponding events\n",
      "Found 197 significant peaks\n",
      "Number of EOG events detected: 197\n",
      "Computing projector\n",
      "Filtering raw data in 1 contiguous segment\n",
      "Setting up band-pass filter from 1 - 35 Hz\n",
      "\n",
      "FIR filter parameters\n",
      "---------------------\n",
      "Designing a two-pass forward and reverse, zero-phase, non-causal bandpass filter:\n",
      "- Windowed frequency-domain design (firwin2) method\n",
      "- Hamming window\n",
      "- Lower passband edge: 1.00\n",
      "- Lower transition bandwidth: 0.50 Hz (-12 dB cutoff frequency: 0.75 Hz)\n",
      "- Upper passband edge: 35.00 Hz\n",
      "- Upper transition bandwidth: 0.50 Hz (-12 dB cutoff frequency: 35.25 Hz)\n",
      "- Filter length: 5000 samples (10.000 s)\n",
      "\n"
     ]
    },
    {
     "name": "stderr",
     "output_type": "stream",
     "text": [
      "[Parallel(n_jobs=1)]: Using backend SequentialBackend with 1 concurrent workers.\n",
      "[Parallel(n_jobs=1)]: Done   1 out of   1 | elapsed:    0.1s remaining:    0.0s\n",
      "[Parallel(n_jobs=1)]: Done   1 out of   1 | elapsed:    0.1s finished\n",
      "[Parallel(n_jobs=1)]: Using backend SequentialBackend with 1 concurrent workers.\n",
      "[Parallel(n_jobs=1)]: Done   1 out of   1 | elapsed:    0.1s remaining:    0.0s\n",
      "[Parallel(n_jobs=1)]: Done   2 out of   2 | elapsed:    0.1s remaining:    0.0s\n",
      "[Parallel(n_jobs=1)]: Done   3 out of   3 | elapsed:    0.2s remaining:    0.0s\n",
      "[Parallel(n_jobs=1)]: Done   4 out of   4 | elapsed:    0.3s remaining:    0.0s\n",
      "[Parallel(n_jobs=1)]: Done 338 out of 338 | elapsed:   30.3s finished\n"
     ]
    },
    {
     "name": "stdout",
     "output_type": "stream",
     "text": [
      "Not setting metadata\n",
      "197 matching events found\n",
      "No baseline correction applied\n",
      "0 projection items activated\n",
      "Using data from preloaded Raw for 197 events and 201 original time points ...\n",
      "0 bad epochs dropped\n",
      "Adding projection: planar--0.200-0.200-PCA-01\n",
      "Adding projection: axial--0.200-0.200-PCA-01\n",
      "Adding projection: eeg--0.200-0.200-PCA-01\n",
      "Done.\n"
     ]
    }
   ],
   "source": [
    "# compute SSP projectors\n",
    "ecg_projs, events = compute_proj_ecg(raw, n_grad=1, n_mag=1, n_eeg=1, reject=None, ch_name='ECG')\n",
    "eog_projs, _ = compute_proj_eog(raw, n_grad=1, n_mag=1, n_eeg=1, reject=None, ch_name='EOG002')"
   ]
  },
  {
   "cell_type": "code",
   "execution_count": 16,
   "id": "bbe8dbc7-0ebf-4c7e-9a57-81b62a77205e",
   "metadata": {},
   "outputs": [
    {
     "name": "stdout",
     "output_type": "stream",
     "text": [
      "3 projection items deactivated\n",
      "Channels marked as bad:\n",
      "none\n",
      "Channels marked as bad:\n",
      "none\n"
     ]
    }
   ],
   "source": [
    "for title in (\"Without\", \"With\"):\n",
    "    if title == \"With\":\n",
    "        raw.add_proj(eog_projs)\n",
    "    with mne.viz.use_browser_backend(\"matplotlib\"):\n",
    "        fig = raw.plot(duration=5, n_channels=20, scalings='auto')\n",
    "    fig.subplots_adjust(top=0.9)  # make room for title\n",
    "    fig.suptitle(\"{} projectors\".format(title), size=\"xx-large\", weight=\"bold\")"
   ]
  },
  {
   "cell_type": "code",
   "execution_count": 4,
   "id": "64f394f8-0eba-46b1-a072-9caa813c74f1",
   "metadata": {
    "tags": []
   },
   "outputs": [
    {
     "name": "stdout",
     "output_type": "stream",
     "text": [
      "3 projection items deactivated\n",
      "Created an SSP operator (subspace dimension = 3)\n",
      "3 projection items activated\n",
      "SSP projectors applied...\n"
     ]
    },
    {
     "data": {
      "text/html": [
       "<details open>\n",
       "    <summary><strong>General</strong></summary>\n",
       "    <table class=\"table table-hover table-striped table-sm table-responsive small\">\n",
       "        <tr>\n",
       "            <th>Measurement date</th>\n",
       "            \n",
       "            <td>September 01, 2023  12:50:17 GMT</td>\n",
       "            \n",
       "        </tr>\n",
       "        <tr>\n",
       "            <th>Experimenter</th>\n",
       "            \n",
       "            <td>Unknown</td>\n",
       "            \n",
       "        </tr>\n",
       "        <tr>\n",
       "            <th>Participant</th>\n",
       "            \n",
       "            \n",
       "            \n",
       "        </tr>\n",
       "    </table>\n",
       "    </details>\n",
       "    <details open>\n",
       "        <summary><strong>Channels</strong></summary>\n",
       "        <table class=\"table table-hover table-striped table-sm table-responsive small\">\n",
       "            <tr>\n",
       "                <th>Digitized points</th>\n",
       "                \n",
       "                <td>544 points</td>\n",
       "                \n",
       "            </tr>\n",
       "            <tr>\n",
       "                <th>Good channels</th>\n",
       "                <td>1 EOG, 2 BIO, 1 ECG, 30 EEG, 102 Magnetometers, 204 Gradiometers, 2 Stimulus, 1 SYST</td>\n",
       "            </tr>\n",
       "            <tr>\n",
       "                <th>Bad channels</th>\n",
       "                <td>None</td>\n",
       "            </tr>\n",
       "            <tr>\n",
       "                <th>EOG channels</th>\n",
       "                <td>EOG002</td>\n",
       "            </tr>\n",
       "            <tr>\n",
       "                <th>ECG channels</th>\n",
       "                <td>ECG</td>\n",
       "            </tr>\n",
       "        </table>\n",
       "        </details>\n",
       "        <details open>\n",
       "            <summary><strong>Data</strong></summary>\n",
       "            <table class=\"table table-hover table-striped table-sm table-responsive small\">\n",
       "                \n",
       "                <tr>\n",
       "                    <th>Sampling frequency</th>\n",
       "                    <td>500.00 Hz</td>\n",
       "                </tr>\n",
       "                \n",
       "                \n",
       "                <tr>\n",
       "                    <th>Highpass</th>\n",
       "                    <td>1.00 Hz</td>\n",
       "                </tr>\n",
       "                \n",
       "                \n",
       "                <tr>\n",
       "                    <th>Lowpass</th>\n",
       "                    <td>200.00 Hz</td>\n",
       "                </tr>\n",
       "                \n",
       "                \n",
       "                <tr>\n",
       "                    <th>Projections</th>\n",
       "                    <td>EOG-planar--0.200-0.200-PCA-01 : on<br />EOG-axial--0.200-0.200-PCA-01 : on<br />EOG-eeg--0.200-0.200-PCA-01 : on</td>\n",
       "                </tr>\n",
       "                \n",
       "                \n",
       "                <tr>\n",
       "                    <th>Filenames</th>\n",
       "                    <td>pre_filtered_data_raw.fif&lt;br&gt;pre_filtered_data_raw-1.fif</td>\n",
       "                </tr>\n",
       "                \n",
       "                \n",
       "                <tr>\n",
       "                    <th>Duration</th>\n",
       "                    <td>01:10:22 (HH:MM:SS)</td>\n",
       "                </tr>\n",
       "                \n",
       "            </table>\n",
       "            </details>"
      ],
      "text/plain": [
       "<Raw | pre_filtered_data_raw.fif, 343 x 2111000 (4222.0 s), ~5.40 GB, data loaded>"
      ]
     },
     "execution_count": 4,
     "metadata": {},
     "output_type": "execute_result"
    }
   ],
   "source": [
    "# Create a copy of the raw data before applying SSP for comparison\n",
    "ssp_eog = raw.copy()\n",
    "\n",
    "# add projs as Object to raw data\n",
    "ssp_eog.add_proj(eog_projs)\n",
    "\n",
    "# Apply SSP projectors to the copy\n",
    "ssp_eog.apply_proj()"
   ]
  },
  {
   "cell_type": "code",
   "execution_count": 7,
   "id": "6dd9fffa-d708-4424-94d8-5de411a6f5fd",
   "metadata": {
    "tags": []
   },
   "outputs": [
    {
     "name": "stdout",
     "output_type": "stream",
     "text": [
      "Writing /home/ijekt/Documents/cs_cog_fat/SSP_eog_applied_raw.fif\n",
      "Closing /home/ijekt/Documents/cs_cog_fat/SSP_eog_applied_raw.fif\n",
      "Writing /home/ijekt/Documents/cs_cog_fat/SSP_eog_applied_raw-1.fif\n",
      "Closing /home/ijekt/Documents/cs_cog_fat/SSP_eog_applied_raw-1.fif\n",
      "[done]\n"
     ]
    }
   ],
   "source": [
    "ssp_eog.save('SSP_eog_applied_raw.fif', overwrite=True)"
   ]
  },
  {
   "cell_type": "code",
   "execution_count": 8,
   "id": "b83632b1-ab6b-4c58-9fa9-b95e22bacb11",
   "metadata": {},
   "outputs": [
    {
     "name": "stdout",
     "output_type": "stream",
     "text": [
      "3 projection items deactivated\n",
      "Created an SSP operator (subspace dimension = 3)\n",
      "3 projection items activated\n",
      "SSP projectors applied...\n"
     ]
    },
    {
     "data": {
      "text/html": [
       "<details open>\n",
       "    <summary><strong>General</strong></summary>\n",
       "    <table class=\"table table-hover table-striped table-sm table-responsive small\">\n",
       "        <tr>\n",
       "            <th>Measurement date</th>\n",
       "            \n",
       "            <td>September 01, 2023  12:50:17 GMT</td>\n",
       "            \n",
       "        </tr>\n",
       "        <tr>\n",
       "            <th>Experimenter</th>\n",
       "            \n",
       "            <td>Unknown</td>\n",
       "            \n",
       "        </tr>\n",
       "        <tr>\n",
       "            <th>Participant</th>\n",
       "            \n",
       "            \n",
       "            \n",
       "        </tr>\n",
       "    </table>\n",
       "    </details>\n",
       "    <details open>\n",
       "        <summary><strong>Channels</strong></summary>\n",
       "        <table class=\"table table-hover table-striped table-sm table-responsive small\">\n",
       "            <tr>\n",
       "                <th>Digitized points</th>\n",
       "                \n",
       "                <td>544 points</td>\n",
       "                \n",
       "            </tr>\n",
       "            <tr>\n",
       "                <th>Good channels</th>\n",
       "                <td>1 EOG, 2 BIO, 1 ECG, 30 EEG, 102 Magnetometers, 204 Gradiometers, 2 Stimulus, 1 SYST</td>\n",
       "            </tr>\n",
       "            <tr>\n",
       "                <th>Bad channels</th>\n",
       "                <td>None</td>\n",
       "            </tr>\n",
       "            <tr>\n",
       "                <th>EOG channels</th>\n",
       "                <td>EOG002</td>\n",
       "            </tr>\n",
       "            <tr>\n",
       "                <th>ECG channels</th>\n",
       "                <td>ECG</td>\n",
       "            </tr>\n",
       "        </table>\n",
       "        </details>\n",
       "        <details open>\n",
       "            <summary><strong>Data</strong></summary>\n",
       "            <table class=\"table table-hover table-striped table-sm table-responsive small\">\n",
       "                \n",
       "                <tr>\n",
       "                    <th>Sampling frequency</th>\n",
       "                    <td>500.00 Hz</td>\n",
       "                </tr>\n",
       "                \n",
       "                \n",
       "                <tr>\n",
       "                    <th>Highpass</th>\n",
       "                    <td>1.00 Hz</td>\n",
       "                </tr>\n",
       "                \n",
       "                \n",
       "                <tr>\n",
       "                    <th>Lowpass</th>\n",
       "                    <td>200.00 Hz</td>\n",
       "                </tr>\n",
       "                \n",
       "                \n",
       "                <tr>\n",
       "                    <th>Projections</th>\n",
       "                    <td>ECG-planar--0.200-0.400-PCA-01 : on<br />ECG-axial--0.200-0.400-PCA-01 : on<br />ECG-eeg--0.200-0.400-PCA-01 : on</td>\n",
       "                </tr>\n",
       "                \n",
       "                \n",
       "                <tr>\n",
       "                    <th>Filenames</th>\n",
       "                    <td>pre_filtered_data_raw.fif&lt;br&gt;pre_filtered_data_raw-1.fif</td>\n",
       "                </tr>\n",
       "                \n",
       "                \n",
       "                <tr>\n",
       "                    <th>Duration</th>\n",
       "                    <td>01:10:22 (HH:MM:SS)</td>\n",
       "                </tr>\n",
       "                \n",
       "            </table>\n",
       "            </details>"
      ],
      "text/plain": [
       "<Raw | pre_filtered_data_raw.fif, 343 x 2111000 (4222.0 s), ~5.40 GB, data loaded>"
      ]
     },
     "execution_count": 8,
     "metadata": {},
     "output_type": "execute_result"
    }
   ],
   "source": [
    "# Create a copy of the raw data before applying SSP for comparison\n",
    "ssp_ecg = raw.copy()\n",
    "\n",
    "# add projs as Object to raw data\n",
    "ssp_ecg.add_proj(ecg_projs)\n",
    "\n",
    "# Apply SSP projectors to the copy\n",
    "ssp_ecg.apply_proj()"
   ]
  },
  {
   "cell_type": "code",
   "execution_count": 9,
   "id": "18647523-2048-4526-ad11-041b61bfe088",
   "metadata": {},
   "outputs": [
    {
     "name": "stdout",
     "output_type": "stream",
     "text": [
      "Writing /home/ijekt/Documents/cs_cog_fat/SSP_ecg_applied_raw.fif\n",
      "Closing /home/ijekt/Documents/cs_cog_fat/SSP_ecg_applied_raw.fif\n",
      "Writing /home/ijekt/Documents/cs_cog_fat/SSP_ecg_applied_raw-1.fif\n",
      "Closing /home/ijekt/Documents/cs_cog_fat/SSP_ecg_applied_raw-1.fif\n",
      "[done]\n"
     ]
    }
   ],
   "source": [
    "ssp_ecg.save('SSP_ecg_applied_raw.fif', overwrite=True)"
   ]
  },
  {
   "cell_type": "code",
   "execution_count": null,
   "id": "987fded3-a767-4db0-ba54-7512002ac763",
   "metadata": {},
   "outputs": [],
   "source": [
    "# Plot raw with SSP\n",
    "raw_ssp.plot(duration=5, n_channels=20, scalings='auto')"
   ]
  },
  {
   "cell_type": "code",
   "execution_count": 2,
   "id": "dba591d9-38c9-415c-bcb0-42839d6abe39",
   "metadata": {},
   "outputs": [
    {
     "name": "stdout",
     "output_type": "stream",
     "text": [
      "Opening raw data file SSP_eog_raw.fif...\n",
      "    Read a total of 3 projection items:\n",
      "        EOG-planar--0.200-0.200-PCA-01 (1 x 204)  idle\n",
      "        EOG-axial--0.200-0.200-PCA-01 (1 x 102)  idle\n",
      "        EOG-eeg--0.200-0.200-PCA-01 (1 x 30)  idle\n",
      "    Range : 25000 ... 1583999 =     50.000 ...  3167.998 secs\n",
      "Ready.\n",
      "Opening raw data file /home/ijekt/Documents/cs_cog_fat/SSP_eog_raw-1.fif...\n",
      "    Read a total of 3 projection items:\n",
      "        EOG-planar--0.200-0.200-PCA-01 (1 x 204)  idle\n",
      "        EOG-axial--0.200-0.200-PCA-01 (1 x 102)  idle\n",
      "        EOG-eeg--0.200-0.200-PCA-01 (1 x 30)  idle\n",
      "    Range : 1584000 ... 2135999 =   3168.000 ...  4271.998 secs\n",
      "Ready.\n",
      "Reading 0 ... 2110999  =      0.000 ...  4221.998 secs...\n"
     ]
    }
   ],
   "source": [
    "raw = mne.io.read_raw_fif('SSP_eog_raw.fif', preload=True)"
   ]
  },
  {
   "cell_type": "code",
   "execution_count": 4,
   "id": "85a25b38-67d0-4793-bfd7-9c0f8434730c",
   "metadata": {},
   "outputs": [
    {
     "data": {
      "text/plain": [
       "<mne_qt_browser._pg_figure.MNEQtBrowser at 0x7fda4da3f790>"
      ]
     },
     "execution_count": 4,
     "metadata": {},
     "output_type": "execute_result"
    },
    {
     "name": "stdout",
     "output_type": "stream",
     "text": [
      "Channels marked as bad:\n",
      "none\n"
     ]
    }
   ],
   "source": [
    "# Plot og raw data for comparison\n",
    "raw.plot(duration=5, n_channels=20, scalings='auto')"
   ]
  },
  {
   "cell_type": "code",
   "execution_count": null,
   "id": "7f691a5e-da41-42f2-80d3-598c1821c3bb",
   "metadata": {},
   "outputs": [],
   "source": []
  }
 ],
 "metadata": {
  "kernelspec": {
   "display_name": "Python 3 (ipykernel)",
   "language": "python",
   "name": "python3"
  },
  "language_info": {
   "codemirror_mode": {
    "name": "ipython",
    "version": 3
   },
   "file_extension": ".py",
   "mimetype": "text/x-python",
   "name": "python",
   "nbconvert_exporter": "python",
   "pygments_lexer": "ipython3",
   "version": "3.9.18"
  }
 },
 "nbformat": 4,
 "nbformat_minor": 5
}
