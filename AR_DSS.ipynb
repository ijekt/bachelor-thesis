{
 "cells": [
  {
   "cell_type": "markdown",
   "id": "f709577b-9bc5-4e8e-876a-fe6a47e4c504",
   "metadata": {},
   "source": [
    "import os\n",
    "import matplotlib.pyplot as plt\n",
    "import numpy as np\n",
    "import pandas as pd\n",
    "import mne\n",
    "from scipy import signal\n",
    "import meegkit\n",
    "from meegkit import dss\n",
    "from meegkit.utils import create_line_data, unfold, fold, rms, tscov\n",
    "\n",
    "%matplotlib qt5"
   ]
  },
  {
   "cell_type": "code",
   "execution_count": 7,
   "id": "9602e1c1-fe4c-48a5-8c3c-235652f53ebd",
   "metadata": {},
   "outputs": [],
   "source": [
    "from meegkit.utils.denoise import demean"
   ]
  },
  {
   "cell_type": "code",
   "execution_count": 8,
   "id": "0f498ffd-718e-4d9a-99e4-99762a914c05",
   "metadata": {},
   "outputs": [
    {
     "name": "stdout",
     "output_type": "stream",
     "text": [
      "Opening raw data file pre_filtered_data_raw.fif...\n",
      "    Range : 25000 ... 1583999 =     50.000 ...  3167.998 secs\n",
      "Ready.\n",
      "Opening raw data file /home/ijekt/Documents/cs_cog_fat/pre_filtered_data_raw-1.fif...\n",
      "    Range : 1584000 ... 2135999 =   3168.000 ...  4271.998 secs\n",
      "Ready.\n",
      "Reading 0 ... 2110999  =      0.000 ...  4221.998 secs...\n"
     ]
    }
   ],
   "source": [
    "raw = mne.io.read_raw_fif('pre_filtered_data_raw.fif', preload=True)"
   ]
  },
  {
   "cell_type": "code",
   "execution_count": 9,
   "id": "24ca1248-2975-47ac-8613-2faa7fe9a256",
   "metadata": {},
   "outputs": [],
   "source": [
    "# extract meg channels\n",
    "meg_channels = mne.pick_types(raw.info, meg=True, eeg=False)"
   ]
  },
  {
   "cell_type": "code",
   "execution_count": 10,
   "id": "6614880b-5e8d-4e4e-bece-f55867970abb",
   "metadata": {},
   "outputs": [],
   "source": [
    "# extract eog and ecg channels\n",
    "eog_channels = mne.pick_types(raw.info, meg=False, eeg=False, eog=True)\n",
    "ecg_channels = mne.pick_types(raw.info, meg=False, eeg=False, ecg=True)"
   ]
  },
  {
   "cell_type": "code",
   "execution_count": 11,
   "id": "b775624b-156c-44a8-893d-01bf8b1376d0",
   "metadata": {},
   "outputs": [],
   "source": [
    "# extract meg, exg, eog data\n",
    "meg_data = raw.get_data(picks=meg_channels)\n",
    "#eog_data = raw.get_data(picks=eog_channels)\n",
    "#ecg_data = raw.get_data(picks=ecg_channels)"
   ]
  },
  {
   "cell_type": "code",
   "execution_count": 12,
   "id": "1e94d539-b455-4683-b42d-6b1063968698",
   "metadata": {},
   "outputs": [
    {
     "name": "stdout",
     "output_type": "stream",
     "text": [
      "(306, 2111000)\n"
     ]
    }
   ],
   "source": [
    "print(meg_data.shape)\n",
    "#print(eog_data.shape)\n",
    "#print(ecg_data.shape)"
   ]
  },
  {
   "cell_type": "code",
   "execution_count": 16,
   "id": "41d10145-b6c3-43d6-bbfc-574f780c8fa1",
   "metadata": {},
   "outputs": [],
   "source": [
    "x = meg_data.T\n",
    "sf = raw.info['sfreq']\n",
    "x = demean(x)"
   ]
  },
  {
   "cell_type": "code",
   "execution_count": 18,
   "id": "db0fcf6c-344d-43b3-8325-513f5db9a9bb",
   "metadata": {},
   "outputs": [
    {
     "name": "stdout",
     "output_type": "stream",
     "text": [
      "(2111000, 306)\n"
     ]
    }
   ],
   "source": [
    "print(x.shape)"
   ]
  },
  {
   "cell_type": "code",
   "execution_count": 19,
   "id": "3f94ba7d-2d0e-47ff-90d9-fb2438710da7",
   "metadata": {},
   "outputs": [],
   "source": [
    "# Remove eyeblink components\n",
    "w = np.abs(x) > 4 * np.median(np.abs(x))\n",
    "w = np.mean(w, axis=1)\n",
    "c0 = np.cov(x, rowvar=False)\n",
    "c1 = np.cov(np.multiply(x, w[:, np.newaxis]), rowvar=False)\n",
    "todss, fromdss, pwr0, pwr1 = meegkit.dss.dss0(c0, c1)\n",
    "\n",
    "\n",
    "# Plot\n",
    "plt.figure(4)\n",
    "plt.clf()\n",
    "plt.subplot(121)\n",
    "plt.plot(pwr1 / pwr0, '.-')\n",
    "plt.ylabel('score')\n",
    "plt.xlabel('components')\n",
    "plt.title('DSS eyeblink')\n",
    "\n",
    "# Apply DSS\n",
    "z = np.dot(x, todss)"
   ]
  },
  {
   "cell_type": "code",
   "execution_count": 21,
   "id": "7c8e2ed0-a111-4ba1-b899-132a4184703b",
   "metadata": {},
   "outputs": [
    {
     "name": "stdout",
     "output_type": "stream",
     "text": [
      "(2111000, 306)\n"
     ]
    }
   ],
   "source": [
    "print(yy.shape)"
   ]
  },
  {
   "cell_type": "code",
   "execution_count": 11,
   "id": "a4047fe7-bded-40d0-9fbc-d3114e7b2686",
   "metadata": {},
   "outputs": [],
   "source": [
    "# Repeat to tighten estimate\n",
    "w = np.abs(z[:, 0]) > 4 * np.median(np.abs(z[:, 0]))\n",
    "c0 = np.cov(x, rowvar=False)\n",
    "c1 = np.cov(np.multiply(x, w[:, np.newaxis]), rowvar=False)\n",
    "todss, fromdss, pwr0, pwr1 = meegkit.dss.dss0(c0, c1)\n",
    "\n",
    "# Plotting the power ratio for the second DSS\n",
    "plt.subplot(122)\n",
    "plt.plot(pwr1 / pwr0, '.-')\n",
    "plt.ylabel('score')\n",
    "plt.xlabel('components')\n",
    "plt.title('DSS eyeblink 2')\n",
    "\n",
    "# Apply the second DSS\n",
    "z = np.dot(x, todss)"
   ]
  },
  {
   "cell_type": "code",
   "execution_count": 12,
   "id": "7185703a-ec6c-463d-825e-75f0b24b797a",
   "metadata": {},
   "outputs": [],
   "source": [
    "# Number of components to keep\n",
    "NKEEP = 7\n",
    "\n",
    "# Select the best components and project back to sensor space\n",
    "projection_matrix = np.dot(todss[:, :NKEEP], fromdss[:NKEEP, :])\n",
    "yy = np.dot(x, projection_matrix)"
   ]
  },
  {
   "cell_type": "code",
   "execution_count": 13,
   "id": "5eb14003-bcbe-490f-ae14-edcaec89f36b",
   "metadata": {},
   "outputs": [
    {
     "name": "stdout",
     "output_type": "stream",
     "text": [
      "(2111000, 306)\n"
     ]
    }
   ],
   "source": [
    "print(yy.shape)"
   ]
  },
  {
   "cell_type": "code",
   "execution_count": 14,
   "id": "c91617cc-f6d1-47b0-a4a0-212e17201a37",
   "metadata": {},
   "outputs": [],
   "source": [
    "y = yy.T"
   ]
  },
  {
   "cell_type": "code",
   "execution_count": 15,
   "id": "d7e1d666-c800-4027-955e-2e3fdd9a0488",
   "metadata": {},
   "outputs": [
    {
     "name": "stdout",
     "output_type": "stream",
     "text": [
      "(306, 2111000)\n"
     ]
    }
   ],
   "source": [
    "print(y.shape)"
   ]
  },
  {
   "cell_type": "code",
   "execution_count": 16,
   "id": "b359be61-352a-487f-88ef-118eadab632e",
   "metadata": {},
   "outputs": [],
   "source": [
    "original_ch_names = raw.ch_names[:306]\n",
    "original_ch_types = ['mag'] * 102 + ['grad'] * 204"
   ]
  },
  {
   "cell_type": "code",
   "execution_count": 17,
   "id": "690dfbef-9ff8-4e81-8157-4434724f1b2a",
   "metadata": {},
   "outputs": [],
   "source": [
    "info = mne.create_info(ch_names=original_ch_names, sfreq=raw.info['sfreq'], ch_types=original_ch_types)"
   ]
  },
  {
   "cell_type": "code",
   "execution_count": 18,
   "id": "53894dd8-7b8a-4712-b766-eb6995e2d0ec",
   "metadata": {},
   "outputs": [
    {
     "name": "stdout",
     "output_type": "stream",
     "text": [
      "Creating RawArray with float64 data, n_channels=306, n_times=2111000\n",
      "    Range : 0 ... 2110999 =      0.000 ...  4221.998 secs\n",
      "Ready.\n"
     ]
    }
   ],
   "source": [
    "dss_eog_raw = mne.io.RawArray(y, info)"
   ]
  },
  {
   "cell_type": "code",
   "execution_count": 19,
   "id": "3c09e75f-4080-47d2-aa04-652fb54e429f",
   "metadata": {},
   "outputs": [
    {
     "name": "stdout",
     "output_type": "stream",
     "text": [
      "Using qt as 2D backend.\n"
     ]
    },
    {
     "name": "stderr",
     "output_type": "stream",
     "text": [
      "<frozen importlib._bootstrap>:228: FutureWarning: mne.io.pick.channel_indices_by_type is deprecated will be removed in 1.6, use documented public API instead. If no appropriate public API exists, please open an issue on GitHub.\n"
     ]
    },
    {
     "data": {
      "text/plain": [
       "<mne_qt_browser._pg_figure.MNEQtBrowser at 0x7f0f7cf2c0d0>"
      ]
     },
     "execution_count": 19,
     "metadata": {},
     "output_type": "execute_result"
    },
    {
     "name": "stdout",
     "output_type": "stream",
     "text": [
      "Channels marked as bad:\n",
      "none\n"
     ]
    }
   ],
   "source": [
    "dss_eog_raw.plot(duration=5, n_channels=20, scalings='auto')"
   ]
  },
  {
   "cell_type": "code",
   "execution_count": 26,
   "id": "cb6807bf-4f87-439e-b9bc-687a038313bb",
   "metadata": {},
   "outputs": [
    {
     "name": "stdout",
     "output_type": "stream",
     "text": [
      "Creating RawArray with float64 data, n_channels=306, n_times=2111000\n",
      "    Range : 0 ... 2110999 =      0.000 ...  2110.999 secs\n",
      "Ready.\n"
     ]
    }
   ],
   "source": [
    "n_channels = y.shape[0]\n",
    "\n",
    "# Generate dummy channel names\n",
    "channel_names = ['MEG%03d' % i for i in range(1, n_channels + 1)]\n",
    "\n",
    "# Create a list of channel types (all 'meg' in this case)\n",
    "channel_types = ['mag'] * n_channels\n",
    "\n",
    "# Create MNE Info object\n",
    "info = mne.create_info(ch_names=channel_names, sfreq=1000, ch_types=channel_types)  # Replace 1000 with your actual sampling rate\n",
    "\n",
    "# Transpose 'y' to have shape [n_times, n_channels] and create RawArray object\n",
    "dss_raw = mne.io.RawArray(y, info)"
   ]
  },
  {
   "cell_type": "code",
   "execution_count": 27,
   "id": "b6ac4b8f-ad02-434b-9a3f-19216a268deb",
   "metadata": {},
   "outputs": [
    {
     "data": {
      "text/plain": [
       "<mne_qt_browser._pg_figure.MNEQtBrowser at 0x7f0baaa9c700>"
      ]
     },
     "execution_count": 27,
     "metadata": {},
     "output_type": "execute_result"
    },
    {
     "name": "stdout",
     "output_type": "stream",
     "text": [
      "Waiting for Loading-Thread to finish... (max. 10 sec)\n"
     ]
    }
   ],
   "source": [
    "dss_raw.plot(duration=5, n_channels=20, scalings='auto')"
   ]
  },
  {
   "cell_type": "code",
   "execution_count": null,
   "id": "d53de55d-4a12-4ab2-8746-b761da3400f0",
   "metadata": {},
   "outputs": [],
   "source": []
  }
 ],
 "metadata": {
  "kernelspec": {
   "display_name": "Python 3 (ipykernel)",
   "language": "python",
   "name": "python3"
  },
  "language_info": {
   "codemirror_mode": {
    "name": "ipython",
    "version": 3
   },
   "file_extension": ".py",
   "mimetype": "text/x-python",
   "name": "python",
   "nbconvert_exporter": "python",
   "pygments_lexer": "ipython3",
   "version": "3.9.18"
  }
 },
 "nbformat": 4,
 "nbformat_minor": 5
}
