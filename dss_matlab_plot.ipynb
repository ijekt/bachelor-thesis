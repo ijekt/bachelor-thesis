{
 "cells": [
  {
   "cell_type": "code",
   "execution_count": 37,
   "id": "d0c9f032-f6a1-48ae-86dd-a5d5ee1a5f3e",
   "metadata": {},
   "outputs": [],
   "source": [
    "import os\n",
    "import matplotlib.pyplot as plt\n",
    "import numpy as np\n",
    "import pandas as pd\n",
    "import scipy\n",
    "import mne\n",
    "from scipy import signal\n",
    "import meegkit\n",
    "from meegkit import dss\n",
    "from meegkit.utils import create_line_data, unfold, fold, rms, tscov\n",
    "from meegkit.utils.denoise import demean\n",
    "from meegkit.tspca import tsr\n",
    "import h5py\n",
    "\n",
    "%matplotlib qt5"
   ]
  },
  {
   "cell_type": "code",
   "execution_count": 38,
   "id": "458a22c1-46d8-4aaa-ab78-83e2ac5fff23",
   "metadata": {},
   "outputs": [],
   "source": [
    "mat_data = h5py.File('dss_eeg_data.mat', 'r')"
   ]
  },
  {
   "cell_type": "code",
   "execution_count": 39,
   "id": "dd65f342-7b9c-4624-b7e8-542031f0944b",
   "metadata": {},
   "outputs": [
    {
     "name": "stdout",
     "output_type": "stream",
     "text": [
      "<KeysViewHDF5 ['y']>\n"
     ]
    }
   ],
   "source": [
    "print(mat_data.keys())"
   ]
  },
  {
   "cell_type": "code",
   "execution_count": 40,
   "id": "cd26d344-0a91-4dcd-916e-4236efbded60",
   "metadata": {},
   "outputs": [],
   "source": [
    "data = mat_data['y']"
   ]
  },
  {
   "cell_type": "code",
   "execution_count": 41,
   "id": "723c5a25-e3ef-4eaa-af8f-31a02ee05e74",
   "metadata": {},
   "outputs": [
    {
     "name": "stdout",
     "output_type": "stream",
     "text": [
      "(4488, 30, 600)\n"
     ]
    }
   ],
   "source": [
    "print(data.shape)"
   ]
  },
  {
   "cell_type": "code",
   "execution_count": 23,
   "id": "48f69e99-feac-49b8-b8fd-5312333f9865",
   "metadata": {},
   "outputs": [],
   "source": [
    "# Load your data (yy) and reshape it to match MNE format\n",
    "data_t = np.transpose(data, (1, 0, 2))  # Transpose to (channels, times, trials)\n"
   ]
  },
  {
   "cell_type": "code",
   "execution_count": 24,
   "id": "114516b8-6861-4657-9d5d-52ac940bb3f0",
   "metadata": {},
   "outputs": [
    {
     "name": "stdout",
     "output_type": "stream",
     "text": [
      "(30, 4488, 600)\n"
     ]
    }
   ],
   "source": [
    "print(data_t.shape)"
   ]
  },
  {
   "cell_type": "code",
   "execution_count": 42,
   "id": "a0730283-9452-4732-a14d-37feee90c319",
   "metadata": {},
   "outputs": [],
   "source": [
    "trials, channels, times = data.shape"
   ]
  },
  {
   "cell_type": "code",
   "execution_count": 43,
   "id": "5925b04c-b03e-46d2-b05b-b82dd56122ce",
   "metadata": {},
   "outputs": [],
   "source": [
    "# Create dummy channel names\n",
    "channel_names = ['eeg' + str(i) for i in range(channels)]\n",
    "\n",
    "# Define channel types\n",
    "channel_types = ['eeg'] * channels\n",
    "\n",
    "# Define the sampling frequency\n",
    "sfreq = 500  # Hz\n"
   ]
  },
  {
   "cell_type": "code",
   "execution_count": 44,
   "id": "a2c266e2-e9ff-4a81-a3b0-1fe2b0f8d58b",
   "metadata": {},
   "outputs": [],
   "source": [
    "\n",
    "# Create an Info object\n",
    "info = mne.create_info(ch_names=channel_names, sfreq=sfreq, ch_types=channel_types)"
   ]
  },
  {
   "cell_type": "code",
   "execution_count": 45,
   "id": "9e83ec44-e83f-44ac-b74a-117ea8c3692e",
   "metadata": {},
   "outputs": [
    {
     "name": "stdout",
     "output_type": "stream",
     "text": [
      "Not setting metadata\n",
      "4488 matching events found\n",
      "No baseline correction applied\n",
      "0 projection items activated\n"
     ]
    },
    {
     "data": {
      "text/plain": [
       "<mne_qt_browser._pg_figure.MNEQtBrowser at 0x7ff1d3eb2a60>"
      ]
     },
     "execution_count": 45,
     "metadata": {},
     "output_type": "execute_result"
    },
    {
     "name": "stdout",
     "output_type": "stream",
     "text": [
      "Dropped 0 epochs: \n",
      "The following epochs were marked as bad and are dropped:\n",
      "[]\n",
      "Channels marked as bad:\n",
      "none\n"
     ]
    }
   ],
   "source": [
    "# Create MNE Epochs object\n",
    "epochs = mne.EpochsArray(data, info)\n",
    "\n",
    "# Plot the data using MNE-Python\n",
    "epochs.plot(scalings='auto')"
   ]
  },
  {
   "cell_type": "code",
   "execution_count": null,
   "id": "b61c4dd6-383d-44f0-a4be-cc749e6581c9",
   "metadata": {},
   "outputs": [],
   "source": []
  }
 ],
 "metadata": {
  "kernelspec": {
   "display_name": "Python 3 (ipykernel)",
   "language": "python",
   "name": "python3"
  },
  "language_info": {
   "codemirror_mode": {
    "name": "ipython",
    "version": 3
   },
   "file_extension": ".py",
   "mimetype": "text/x-python",
   "name": "python",
   "nbconvert_exporter": "python",
   "pygments_lexer": "ipython3",
   "version": "3.9.18"
  }
 },
 "nbformat": 4,
 "nbformat_minor": 5
}
